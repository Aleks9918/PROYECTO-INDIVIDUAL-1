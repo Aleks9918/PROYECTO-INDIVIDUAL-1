{
 "cells": [
  {
   "cell_type": "code",
   "execution_count": 3,
   "metadata": {},
   "outputs": [],
   "source": [
    "import pandas as pd"
   ]
  },
  {
   "cell_type": "code",
   "execution_count": 2,
   "metadata": {},
   "outputs": [],
   "source": [
    "df_games = pd.read_json('./data_limpia/output_steam_games_limpia.json', lines=True)"
   ]
  },
  {
   "cell_type": "code",
   "execution_count": 5,
   "metadata": {},
   "outputs": [],
   "source": [
    "\n",
    "# Explosión de géneros, creación de variables dummy y suma por ID de juego\n",
    "genres_dummies = (\n",
    "    df_games['genres']\n",
    "    .explode()  # Divide los géneros en filas separadas\n",
    "    .str.get_dummies()  # Crea variables dummy para cada género\n",
    "    .groupby(level=0)  # Agrupa por ID de juego\n",
    "    .sum()  # Suma las variables dummy\n",
    "    .reset_index(drop=True)  # Reinicia el índice\n",
    ")\n",
    "\n",
    "# Combinación del ID de juego con las variables dummy de género\n",
    "generos_todos = pd.concat([df_games[['id']], genres_dummies], axis=1)\n",
    "\n",
    "# Filtrado de columnas para mantener las relevantes\n",
    "keep_cols = generos_todos.columns[~generos_todos.columns.str.contains('&amp;', case=False)]\n",
    "generos_todos = generos_todos[keep_cols]\n",
    "\n",
    "# Aseguramiento de nombres de columnas únicos\n",
    "generos_todos.columns = pd.unique(generos_todos.columns)\n",
    "\n",
    "# Guardado del DataFrame con las variables dummy en un archivo JSON\n",
    "generos_todos.to_json('./data_limpia/df_dummies.json',orient='records',lines=True)"
   ]
  }
 ],
 "metadata": {
  "kernelspec": {
   "display_name": "Python 3",
   "language": "python",
   "name": "python3"
  },
  "language_info": {
   "codemirror_mode": {
    "name": "ipython",
    "version": 3
   },
   "file_extension": ".py",
   "mimetype": "text/x-python",
   "name": "python",
   "nbconvert_exporter": "python",
   "pygments_lexer": "ipython3",
   "version": "3.11.9"
  }
 },
 "nbformat": 4,
 "nbformat_minor": 2
}
