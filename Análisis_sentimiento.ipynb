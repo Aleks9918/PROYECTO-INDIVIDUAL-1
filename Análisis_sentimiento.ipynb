{
 "cells": [
  {
   "cell_type": "code",
   "execution_count": 16,
   "metadata": {},
   "outputs": [],
   "source": [
    "import pandas as pd "
   ]
  },
  {
   "cell_type": "code",
   "execution_count": 17,
   "metadata": {},
   "outputs": [],
   "source": [
    "user_reviews  = pd.read_json('./data_limpia/australian_user_reviews_limpia.json', lines=True)"
   ]
  },
  {
   "cell_type": "code",
   "execution_count": 18,
   "metadata": {},
   "outputs": [
    {
     "name": "stdout",
     "output_type": "stream",
     "text": [
      "             user_id                                           user_url funny  \\\n",
      "0  76561197970982479  http://steamcommunity.com/profiles/76561197970...         \n",
      "1  76561197970982479  http://steamcommunity.com/profiles/76561197970...         \n",
      "2  76561197970982479  http://steamcommunity.com/profiles/76561197970...         \n",
      "3            js41637               http://steamcommunity.com/id/js41637         \n",
      "4            js41637               http://steamcommunity.com/id/js41637         \n",
      "\n",
      "                      posted last_edited  item_id  \\\n",
      "0   Posted November 5, 2011.                 1250   \n",
      "1      Posted July 15, 2011.                22200   \n",
      "2     Posted April 21, 2011.                43110   \n",
      "3      Posted June 24, 2014.               251610   \n",
      "4  Posted September 8, 2013.               227300   \n",
      "\n",
      "                                           helpful  recommend  \\\n",
      "0                                   No ratings yet       True   \n",
      "1                                   No ratings yet       True   \n",
      "2                                   No ratings yet       True   \n",
      "3  15 of 20 people (75%) found this review helpful       True   \n",
      "4     0 of 1 people (0%) found this review helpful       True   \n",
      "\n",
      "                                              review  sentiment_analysis  \n",
      "0  Simple yet with great replayability. In my opi...                   2  \n",
      "1               It's unique and worth a playthrough.                   2  \n",
      "2  Great atmosphere. The gunplay can be a bit chu...                   2  \n",
      "3  I know what you think when you see this title ...                   2  \n",
      "4  For a simple (it's actually not all that simpl...                   0  \n"
     ]
    }
   ],
   "source": [
    "from textblob import TextBlob\n",
    "\n",
    "def analizar_sentimiento(texto):\n",
    "    if pd.isna(texto) or texto.strip() == \"\":\n",
    "        return 1  # Valor neutral si no hay reseña\n",
    "    else:\n",
    "        polaridad = TextBlob(texto).sentiment.polarity\n",
    "        if polaridad > 0:\n",
    "            return 2  # Positivo\n",
    "        elif polaridad < 0:\n",
    "            return 0  # Negativo\n",
    "        else:\n",
    "            return 1  # Neutral\n",
    "\n",
    "# Se corre la función en el dataframe \n",
    "user_reviews['sentiment_analysis'] = user_reviews['review'].apply(analizar_sentimiento)\n",
    "\n",
    "# Resultado\n",
    "print(user_reviews.head())"
   ]
  },
  {
   "cell_type": "code",
   "execution_count": 19,
   "metadata": {},
   "outputs": [],
   "source": [
    "user_reviews['review'] = user_reviews['sentiment_analysis']\n",
    "user_reviews.drop('sentiment_analysis', axis=1, inplace=True)"
   ]
  },
  {
   "cell_type": "code",
   "execution_count": 20,
   "metadata": {},
   "outputs": [],
   "source": [
    "#Guardamos dataset actualizado \n",
    "user_reviews.to_json('./data_limpia/user_reviews.json',orient='records',lines=True)"
   ]
  },
  {
   "cell_type": "code",
   "execution_count": 13,
   "metadata": {},
   "outputs": [],
   "source": []
  },
  {
   "cell_type": "code",
   "execution_count": null,
   "metadata": {},
   "outputs": [],
   "source": []
  }
 ],
 "metadata": {
  "kernelspec": {
   "display_name": "Python 3",
   "language": "python",
   "name": "python3"
  },
  "language_info": {
   "codemirror_mode": {
    "name": "ipython",
    "version": 3
   },
   "file_extension": ".py",
   "mimetype": "text/x-python",
   "name": "python",
   "nbconvert_exporter": "python",
   "pygments_lexer": "ipython3",
   "version": "3.11.9"
  }
 },
 "nbformat": 4,
 "nbformat_minor": 2
}
