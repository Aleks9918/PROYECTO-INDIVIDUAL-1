{
 "cells": [
  {
   "cell_type": "code",
   "execution_count": 2,
   "metadata": {},
   "outputs": [],
   "source": [
    "from fastapi import FastAPI\n",
    "import pandas as pd\n",
    "import ast\n"
   ]
  },
  {
   "cell_type": "code",
   "execution_count": 5,
   "metadata": {},
   "outputs": [],
   "source": [
    "df_games = pd.read_json('./data_limpia/output_steam_games_limpia.json', lines=True)\n",
    "df_reviews = pd.read_json('./data_limpia/user_reviews.json', lines=True)\n",
    "df_items = pd.read_json('./data_limpia/australian_user_items_limpia.json', lines=True)"
   ]
  },
  {
   "cell_type": "code",
   "execution_count": 20,
   "metadata": {},
   "outputs": [
    {
     "ename": "KeyError",
     "evalue": "'developer'",
     "output_type": "error",
     "traceback": [
      "\u001b[1;31m---------------------------------------------------------------------------\u001b[0m",
      "\u001b[1;31mKeyError\u001b[0m                                  Traceback (most recent call last)",
      "File \u001b[1;32m~\\AppData\\Local\\Packages\\PythonSoftwareFoundation.Python.3.11_qbz5n2kfra8p0\\LocalCache\\local-packages\\Python311\\site-packages\\pandas\\core\\indexes\\base.py:3805\u001b[0m, in \u001b[0;36mIndex.get_loc\u001b[1;34m(self, key)\u001b[0m\n\u001b[0;32m   3804\u001b[0m \u001b[38;5;28;01mtry\u001b[39;00m:\n\u001b[1;32m-> 3805\u001b[0m     \u001b[38;5;28;01mreturn\u001b[39;00m \u001b[38;5;28;43mself\u001b[39;49m\u001b[38;5;241;43m.\u001b[39;49m\u001b[43m_engine\u001b[49m\u001b[38;5;241;43m.\u001b[39;49m\u001b[43mget_loc\u001b[49m\u001b[43m(\u001b[49m\u001b[43mcasted_key\u001b[49m\u001b[43m)\u001b[49m\n\u001b[0;32m   3806\u001b[0m \u001b[38;5;28;01mexcept\u001b[39;00m \u001b[38;5;167;01mKeyError\u001b[39;00m \u001b[38;5;28;01mas\u001b[39;00m err:\n",
      "File \u001b[1;32mindex.pyx:167\u001b[0m, in \u001b[0;36mpandas._libs.index.IndexEngine.get_loc\u001b[1;34m()\u001b[0m\n",
      "File \u001b[1;32mindex.pyx:196\u001b[0m, in \u001b[0;36mpandas._libs.index.IndexEngine.get_loc\u001b[1;34m()\u001b[0m\n",
      "File \u001b[1;32mpandas\\\\_libs\\\\hashtable_class_helper.pxi:7081\u001b[0m, in \u001b[0;36mpandas._libs.hashtable.PyObjectHashTable.get_item\u001b[1;34m()\u001b[0m\n",
      "File \u001b[1;32mpandas\\\\_libs\\\\hashtable_class_helper.pxi:7089\u001b[0m, in \u001b[0;36mpandas._libs.hashtable.PyObjectHashTable.get_item\u001b[1;34m()\u001b[0m\n",
      "\u001b[1;31mKeyError\u001b[0m: 'developer'",
      "\nThe above exception was the direct cause of the following exception:\n",
      "\u001b[1;31mKeyError\u001b[0m                                  Traceback (most recent call last)",
      "Cell \u001b[1;32mIn[20], line 16\u001b[0m\n\u001b[0;32m     13\u001b[0m     \u001b[38;5;28;01mreturn\u001b[39;00m resultado_list\n\u001b[0;32m     15\u001b[0m dev \u001b[38;5;241m=\u001b[39m \u001b[38;5;28minput\u001b[39m(\u001b[38;5;124m\"\u001b[39m\u001b[38;5;124mdeveloper\u001b[39m\u001b[38;5;124m\"\u001b[39m)\n\u001b[1;32m---> 16\u001b[0m funcion1 \u001b[38;5;241m=\u001b[39m \u001b[43mdeveloper\u001b[49m\u001b[43m(\u001b[49m\u001b[43mdev\u001b[49m\u001b[43m)\u001b[49m\n\u001b[0;32m     17\u001b[0m \u001b[38;5;28mprint\u001b[39m(funcion1)\n",
      "Cell \u001b[1;32mIn[20], line 2\u001b[0m, in \u001b[0;36mdeveloper\u001b[1;34m(desarrollador)\u001b[0m\n\u001b[0;32m      1\u001b[0m \u001b[38;5;28;01mdef\u001b[39;00m \u001b[38;5;21mdeveloper\u001b[39m(desarrollador: \u001b[38;5;28mstr\u001b[39m):\n\u001b[1;32m----> 2\u001b[0m     filtered_data \u001b[38;5;241m=\u001b[39m df_items[\u001b[43mdf_items\u001b[49m\u001b[43m[\u001b[49m\u001b[38;5;124;43m'\u001b[39;49m\u001b[38;5;124;43mdeveloper\u001b[39;49m\u001b[38;5;124;43m'\u001b[39;49m\u001b[43m]\u001b[49m \u001b[38;5;241m==\u001b[39m desarrollador]\n\u001b[0;32m      4\u001b[0m     resultado \u001b[38;5;241m=\u001b[39m (\n\u001b[0;32m      5\u001b[0m         filtered_data\n\u001b[0;32m      6\u001b[0m         \u001b[38;5;241m.\u001b[39mgroupby(\u001b[38;5;124m'\u001b[39m\u001b[38;5;124mrelease_date\u001b[39m\u001b[38;5;124m'\u001b[39m)\n\u001b[0;32m      7\u001b[0m         \u001b[38;5;241m.\u001b[39magg(cantidad_items\u001b[38;5;241m=\u001b[39m(\u001b[38;5;124m'\u001b[39m\u001b[38;5;124mitem_id\u001b[39m\u001b[38;5;124m'\u001b[39m, \u001b[38;5;124m'\u001b[39m\u001b[38;5;124mcount\u001b[39m\u001b[38;5;124m'\u001b[39m),\n\u001b[0;32m      8\u001b[0m              contenido_free\u001b[38;5;241m=\u001b[39m(\u001b[38;5;124m'\u001b[39m\u001b[38;5;124mis_free\u001b[39m\u001b[38;5;124m'\u001b[39m, \u001b[38;5;28;01mlambda\u001b[39;00m x: (x \u001b[38;5;241m==\u001b[39m \u001b[38;5;124m'\u001b[39m\u001b[38;5;124mYes\u001b[39m\u001b[38;5;124m'\u001b[39m)\u001b[38;5;241m.\u001b[39mmean() \u001b[38;5;241m*\u001b[39m \u001b[38;5;241m100\u001b[39m))  \n\u001b[0;32m      9\u001b[0m     )\u001b[38;5;241m.\u001b[39mreset_index() \n\u001b[0;32m     11\u001b[0m     resultado_list \u001b[38;5;241m=\u001b[39m resultado\u001b[38;5;241m.\u001b[39mto_dict(orient\u001b[38;5;241m=\u001b[39m\u001b[38;5;124m'\u001b[39m\u001b[38;5;124mrecords\u001b[39m\u001b[38;5;124m'\u001b[39m)\n",
      "File \u001b[1;32m~\\AppData\\Local\\Packages\\PythonSoftwareFoundation.Python.3.11_qbz5n2kfra8p0\\LocalCache\\local-packages\\Python311\\site-packages\\pandas\\core\\frame.py:4102\u001b[0m, in \u001b[0;36mDataFrame.__getitem__\u001b[1;34m(self, key)\u001b[0m\n\u001b[0;32m   4100\u001b[0m \u001b[38;5;28;01mif\u001b[39;00m \u001b[38;5;28mself\u001b[39m\u001b[38;5;241m.\u001b[39mcolumns\u001b[38;5;241m.\u001b[39mnlevels \u001b[38;5;241m>\u001b[39m \u001b[38;5;241m1\u001b[39m:\n\u001b[0;32m   4101\u001b[0m     \u001b[38;5;28;01mreturn\u001b[39;00m \u001b[38;5;28mself\u001b[39m\u001b[38;5;241m.\u001b[39m_getitem_multilevel(key)\n\u001b[1;32m-> 4102\u001b[0m indexer \u001b[38;5;241m=\u001b[39m \u001b[38;5;28;43mself\u001b[39;49m\u001b[38;5;241;43m.\u001b[39;49m\u001b[43mcolumns\u001b[49m\u001b[38;5;241;43m.\u001b[39;49m\u001b[43mget_loc\u001b[49m\u001b[43m(\u001b[49m\u001b[43mkey\u001b[49m\u001b[43m)\u001b[49m\n\u001b[0;32m   4103\u001b[0m \u001b[38;5;28;01mif\u001b[39;00m is_integer(indexer):\n\u001b[0;32m   4104\u001b[0m     indexer \u001b[38;5;241m=\u001b[39m [indexer]\n",
      "File \u001b[1;32m~\\AppData\\Local\\Packages\\PythonSoftwareFoundation.Python.3.11_qbz5n2kfra8p0\\LocalCache\\local-packages\\Python311\\site-packages\\pandas\\core\\indexes\\base.py:3812\u001b[0m, in \u001b[0;36mIndex.get_loc\u001b[1;34m(self, key)\u001b[0m\n\u001b[0;32m   3807\u001b[0m     \u001b[38;5;28;01mif\u001b[39;00m \u001b[38;5;28misinstance\u001b[39m(casted_key, \u001b[38;5;28mslice\u001b[39m) \u001b[38;5;129;01mor\u001b[39;00m (\n\u001b[0;32m   3808\u001b[0m         \u001b[38;5;28misinstance\u001b[39m(casted_key, abc\u001b[38;5;241m.\u001b[39mIterable)\n\u001b[0;32m   3809\u001b[0m         \u001b[38;5;129;01mand\u001b[39;00m \u001b[38;5;28many\u001b[39m(\u001b[38;5;28misinstance\u001b[39m(x, \u001b[38;5;28mslice\u001b[39m) \u001b[38;5;28;01mfor\u001b[39;00m x \u001b[38;5;129;01min\u001b[39;00m casted_key)\n\u001b[0;32m   3810\u001b[0m     ):\n\u001b[0;32m   3811\u001b[0m         \u001b[38;5;28;01mraise\u001b[39;00m InvalidIndexError(key)\n\u001b[1;32m-> 3812\u001b[0m     \u001b[38;5;28;01mraise\u001b[39;00m \u001b[38;5;167;01mKeyError\u001b[39;00m(key) \u001b[38;5;28;01mfrom\u001b[39;00m \u001b[38;5;21;01merr\u001b[39;00m\n\u001b[0;32m   3813\u001b[0m \u001b[38;5;28;01mexcept\u001b[39;00m \u001b[38;5;167;01mTypeError\u001b[39;00m:\n\u001b[0;32m   3814\u001b[0m     \u001b[38;5;66;03m# If we have a listlike key, _check_indexing_error will raise\u001b[39;00m\n\u001b[0;32m   3815\u001b[0m     \u001b[38;5;66;03m#  InvalidIndexError. Otherwise we fall through and re-raise\u001b[39;00m\n\u001b[0;32m   3816\u001b[0m     \u001b[38;5;66;03m#  the TypeError.\u001b[39;00m\n\u001b[0;32m   3817\u001b[0m     \u001b[38;5;28mself\u001b[39m\u001b[38;5;241m.\u001b[39m_check_indexing_error(key)\n",
      "\u001b[1;31mKeyError\u001b[0m: 'developer'"
     ]
    }
   ],
   "source": [
    "def developer(desarrollador: str):\n",
    "    filtered_data = df_items[df_items['developer'] == desarrollador]\n",
    "    \n",
    "    resultado = (\n",
    "        filtered_data\n",
    "        .groupby('release_date')\n",
    "        .agg(cantidad_items=('item_id', 'count'),\n",
    "             contenido_free=('is_free', lambda x: (x == 'Yes').mean() * 100))  \n",
    "    ).reset_index() \n",
    "    \n",
    "    resultado_list = resultado.to_dict(orient='records')\n",
    "    \n",
    "    return resultado_list\n",
    "\n",
    "dev = input(\"developer\")\n",
    "funcion1 = developer(dev)\n",
    "print(funcion1)\n"
   ]
  },
  {
   "cell_type": "code",
   "execution_count": 21,
   "metadata": {},
   "outputs": [
    {
     "name": "stdout",
     "output_type": "stream",
     "text": [
      "    Año  Items freeitem\n",
      "0  2018      1     0.0%\n"
     ]
    }
   ],
   "source": [
    "\n",
    "def developer(desarrollador: str, games_df):\n",
    "    \"\"\"\n",
    "    Función para analizar los juegos desarrollados por un desarrollador específico.\n",
    "    \n",
    "    Args:\n",
    "        desarrollador (str): Nombre del desarrollador.\n",
    "        games_df (DataFrame): DataFrame que contiene información de los juegos.\n",
    "        \n",
    "    Returns:\n",
    "        DataFrame: DataFrame con el conteo de juegos lanzados por año y el porcentaje de juegos gratuitos.\n",
    "    \"\"\"\n",
    "    \n",
    "    # Convertimos 'release_date' a tipo fecha\n",
    "    games_df['release_date'] = pd.to_datetime(games_df['release_date'], errors='coerce')\n",
    "    \n",
    "    # Filtramos por el desarrollador especificado\n",
    "    df_dev = games_df[games_df['developer'] == desarrollador]\n",
    "\n",
    "    # Agrupamos por año y contamos el número de elementos\n",
    "    items_por_año = df_dev.groupby(df_dev['release_date'].dt.year).size().reset_index(name='Items')\n",
    "    \n",
    "    # Contamos los juegos gratuitos por año\n",
    "    free_por_año = df_dev[df_dev['price'] == 0].groupby(df_dev['release_date'].dt.year).size().reset_index(name='freeitem')\n",
    "\n",
    "    # Combinamos los resultados en un solo DataFrame\n",
    "    result_df = items_por_año.merge(free_por_año, on='release_date', how='left')\n",
    "    \n",
    "    # Calculamos el porcentaje de juegos gratuitos\n",
    "    result_df['freeitem'] = ((result_df['freeitem'].fillna(0) / result_df['Items']) * 100).round(2).astype(str) + '%'\n",
    "\n",
    "    # Renombramos la columna 'release_date' a 'Año'\n",
    "    result_df.rename(columns={'release_date': 'Año'}, inplace=True)\n",
    "\n",
    "    return result_df\n",
    "\n",
    "# Llamada a la función\n",
    "dev = input(\"¿Nombre del desarrollador? \")\n",
    "funcion1 = developer(dev, df_games)\n",
    "print(funcion1)"
   ]
  },
  {
   "cell_type": "code",
   "execution_count": 36,
   "metadata": {},
   "outputs": [],
   "source": [
    "def get_user_data(User_id: str):\n",
    "    df_items['user_id'] = df_items['user_id'].astype(str)\n",
    "    df_reviews['user_id'] = df_reviews['user_id'].astype(str)\n",
    "\n",
    "    user_items = df_items[df_items['user_id'] == User_id]\n",
    "\n",
    "    df_games['price'] = pd.to_numeric(df_games['price'], errors='coerce')\n",
    "\n",
    "    if not user_items.empty:\n",
    "        money_spent = user_items.merge(df_games[['id', 'price']], left_on='item_id', right_on='id', how='left')['price'].sum()\n",
    "    else:\n",
    "        money_spent = 0.0\n",
    "\n",
    "    total_items = user_items['items_count'].sum()\n",
    "\n",
    "    user_reviews = df_reviews[df_reviews['user_id'] == User_id]\n",
    "\n",
    "    if user_reviews.shape[0] > 0:\n",
    "        recommendation_percentage = (user_reviews['recommend'].sum() / user_reviews.shape[0]) * 100\n",
    "    else:\n",
    "        recommendation_percentage = 0.0 \n",
    "\n",
    "    result = {\n",
    "        \"Usuario\": User_id,\n",
    "        \"Dinero gastado\": f\"{float(money_spent):.2f} USD\",  \n",
    "        \"% de recomendación\": f\"{float(recommendation_percentage):.2f}%\",\n",
    "        \"Cantidad de items\": int(total_items)\n",
    "    }\n",
    "\n",
    "    return result\n"
   ]
  },
  {
   "cell_type": "code",
   "execution_count": 37,
   "metadata": {},
   "outputs": [
    {
     "name": "stdout",
     "output_type": "stream",
     "text": [
      "{'Usuario': 'Wackky', 'Dinero gastado': '0.00 USD', '% de recomendación': '100.00%', 'Cantidad de items': 0}\n"
     ]
    }
   ],
   "source": [
    "# Ejecutar la función\n",
    "resultado = get_user_data('Wackky')  \n",
    "print(resultado)"
   ]
  }
 ],
 "metadata": {
  "kernelspec": {
   "display_name": "Python 3",
   "language": "python",
   "name": "python3"
  },
  "language_info": {
   "codemirror_mode": {
    "name": "ipython",
    "version": 3
   },
   "file_extension": ".py",
   "mimetype": "text/x-python",
   "name": "python",
   "nbconvert_exporter": "python",
   "pygments_lexer": "ipython3",
   "version": "3.11.9"
  }
 },
 "nbformat": 4,
 "nbformat_minor": 2
}
